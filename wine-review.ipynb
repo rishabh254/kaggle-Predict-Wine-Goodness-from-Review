{
 "cells": [
  {
   "cell_type": "code",
   "execution_count": 1,
   "metadata": {
    "_cell_guid": "79c7e3d0-c299-4dcb-8224-4455121ee9b0",
    "_uuid": "d629ff2d2480ee46fbb7e2d37f6b5fab8052498a"
   },
   "outputs": [
    {
     "name": "stdout",
     "output_type": "stream",
     "text": [
      "/kaggle/input/hw2-predict-wine-goodness-from-review/valLabels.csv\n",
      "/kaggle/input/hw2-predict-wine-goodness-from-review/testData_new.csv\n",
      "/kaggle/input/hw2-predict-wine-goodness-from-review/trainLabels.csv\n",
      "/kaggle/input/hw2-predict-wine-goodness-from-review/featureTypes.txt\n",
      "/kaggle/input/hw2-predict-wine-goodness-from-review/valData.csv\n",
      "/kaggle/input/hw2-predict-wine-goodness-from-review/trainData.csv\n"
     ]
    }
   ],
   "source": [
    "'''\n",
    "******************************************************************************\n",
    "  CSE-512-Machine Learning HW2 Question 3\n",
    "  Name: Rishabh Goel\n",
    "  SBU Id : 112714848\n",
    "  Email Id: rishabh.goel@stonybrook.edu\n",
    "*******************************************************************************\n",
    "'''\n",
    "\n",
    "import numpy as np # linear algebra\n",
    "import pandas as pd # data processing, CSV file I/O (e.g. pd.read_csv)\n",
    "import matplotlib.pyplot as plt\n",
    "import multiprocessing\n",
    "import os\n",
    "\n",
    "for dirname, _, filenames in os.walk('/kaggle/input'):\n",
    "    for filename in filenames:\n",
    "        print(os.path.join(dirname, filename))"
   ]
  },
  {
   "cell_type": "code",
   "execution_count": 2,
   "metadata": {},
   "outputs": [
    {
     "name": "stdout",
     "output_type": "stream",
     "text": [
      "trainData has 5000 rows and 3000 columns.\n",
      "trainLabels has 5000 rows and 1 columns.\n",
      "valData has 5000 rows and 3000 columns.\n",
      "valLabels has 5000 rows and 1 columns.\n",
      "testData has 4749 rows and 3000 columns.\n"
     ]
    }
   ],
   "source": [
    "def load_data(file):\n",
    "    return np.array(pd.read_csv(file, header=None, index_col=0))\n",
    "\n",
    "path = '/kaggle/input/hw2-predict-wine-goodness-from-review/'\n",
    "files = [path+'trainData.csv', \n",
    "         path+'trainLabels.csv',\n",
    "         path+'valData.csv',\n",
    "         path+'valLabels.csv',\n",
    "         path+'testData_new.csv',\n",
    "        ]\n",
    "\n",
    "with multiprocessing.Pool() as pool:\n",
    "    train_x, train_y, val_x, val_y, test_x = pool.map(load_data, files)\n",
    "\n",
    "features = list(pd.read_csv(path+'featureTypes.txt', header=None)[0])\n",
    "\n",
    "print(f'trainData has {train_x.shape[0]} rows and {train_x.shape[1]} columns.')\n",
    "print(f'trainLabels has {train_y.shape[0]} rows and {train_y.shape[1]} columns.')\n",
    "print(f'valData has {val_x.shape[0]} rows and {val_x.shape[1]} columns.')\n",
    "print(f'valLabels has {val_y.shape[0]} rows and {val_y.shape[1]} columns.')\n",
    "print(f'testData has {test_x.shape[0]} rows and {test_x.shape[1]} columns.')"
   ]
  },
  {
   "cell_type": "markdown",
   "metadata": {},
   "source": [
    "**Question 3.1** Implement a function to perform Ridge Regression with LOOCV"
   ]
  },
  {
   "cell_type": "code",
   "execution_count": 3,
   "metadata": {},
   "outputs": [],
   "source": [
    "def ridgeReg(X, y, lamda):\n",
    "    \n",
    "    #k*n data matrix\n",
    "    k, n = X.shape  \n",
    "    X_bar = np.vstack((X, np.ones(shape=(1,n))))\n",
    "    \n",
    "    '''\n",
    "        1 0 0 · · 0\n",
    "        0 1 0 · · 0\n",
    "        . . . . . 0\n",
    "    Ī = . . . . . 0\n",
    "        0 · · · 1 0\n",
    "        0 0 0 0 0 0\n",
    "    ''' \n",
    "    I = np.identity(k)\n",
    "    I_bar = np.hstack((I, np.zeros((k,1))))\n",
    "    I_bar = np.vstack((I_bar, np.zeros((1,k+1))))\n",
    "    \n",
    "    C = X_bar@X_bar.T + lamda * I_bar # C = (X̄.X̄ᵀ) + λĪ\n",
    "    d = X_bar@y  # d = X̄.y\n",
    "    U,s,V = np.linalg.svd(C) # inverse using SVD decomposition\n",
    "    C_inv = np.transpose(V) @ np.diag(1/s) @ np.transpose(U)\n",
    "    #C_inv = np.linalg.inv(C) # C⁻¹\n",
    "    w_bar = C_inv@d  # w̅ = C⁻¹.(X̄.y)\n",
    "    \n",
    "    w = w_bar[:k,:]  # k*1 parameter vector\n",
    "    b = w_bar[k]  # bias term\n",
    "    obj = lamda * (w.T@w)[0,0] + np.sum(np.square((X.T@w)+b-y)) # obj = λ∥w∥² + ∑ᵢ₌₁ₜₒₙ(xᵢᵀw + b − yᵢ)²\n",
    "    \n",
    "    cv_errors = []\n",
    "    for i in range(n):\n",
    "        y_i = y[i,0]\n",
    "        X_bar_i = X_bar[:,i]\n",
    "        X_bar_i.shape = (np.size(X_bar_i),1)\n",
    "        # From 2.5, we use the equation for leave-one-out error\n",
    "        num = w_bar.T@X_bar_i - y_i  # w̅ᵀxᵢ − yᵢ\n",
    "        den = 1 - np.dot(X_bar_i.T, C_inv@X_bar_i)  # 1 − x̄ᵀᵢC⁻¹x̄ᵢ\n",
    "        cv_errors_i = num[0,0]/den[0,0] # w̅ᵀᵢx̄ᵢ − yᵢ = (w̅ᵀxᵢ − yᵢ)/(1 − x̄ᵀᵢC⁻¹x̄ᵢ)\n",
    "        cv_errors.append(cv_errors_i)\n",
    "        \n",
    "    return (w, b, obj, cv_errors)"
   ]
  },
  {
   "cell_type": "code",
   "execution_count": 4,
   "metadata": {},
   "outputs": [],
   "source": [
    "# common RMSE function for 1 or 2 arguments\n",
    "def RMSE(*args):\n",
    "    if len(args)==1:\n",
    "        return np.sqrt((args[0].T@args[0])/args[0].size)\n",
    "    else:\n",
    "        return np.sqrt(np.mean((args[0]-args[1])**2))"
   ]
  },
  {
   "cell_type": "markdown",
   "metadata": {},
   "source": [
    "**Question 3.2.1** Solve Ridge to predict the number of points a Wine will receive. Run Ridge on the training\n",
    "set, with λ = 0.01, 0.1, 1, 10, 100, 1000. At each solution, record the root-mean-squared-error (RMSE)\n",
    "on training, validation and leave-one-out-cross-validation data."
   ]
  },
  {
   "cell_type": "code",
   "execution_count": 14,
   "metadata": {},
   "outputs": [
    {
     "name": "stdout",
     "output_type": "stream",
     "text": [
      "lambda \t train_rmse \t\t val_rmse \t\t loocv_error\n",
      "0.01 \t 1.1205188247625317 \t 2.579186825708291 \t 2.580103521790369\n",
      "0.1 \t 1.223811965696008 \t 2.1574812686461002 \t 2.1821064991210806\n",
      "1 \t 1.5780360753182137 \t 1.9967715113690747 \t 2.0094740608896973\n",
      "10 \t 2.189953395751608 \t 2.347705513916257 \t 2.320135165798057\n",
      "100 \t 2.9709419656108147 \t 3.0171052386646875 \t 2.9965727187353264\n",
      "1000 \t 3.331612592153038 \t 3.345415090847551 \t 3.3353399803872215\n"
     ]
    }
   ],
   "source": [
    "lambdas = [0.01, 0.1, 1, 10, 100, 1000]\n",
    "rms_train = {}\n",
    "rms_val = {}\n",
    "rms_loocv = {}\n",
    "for lamda in lambdas :\n",
    "    # RMSE on leave-one-out-cross-validation data.\n",
    "    w, b, obj, cv_errors = ridgeReg(train_x.T, train_y, lamda)\n",
    "    rms_loocv[lamda] = RMSE(np.array(cv_errors))\n",
    "    \n",
    "    # RMSE on train data.\n",
    "    train_y_pred   = train_x@w + b\n",
    "    rms_train[lamda] = RMSE(train_y,train_y_pred)\n",
    "    \n",
    "    # RMSE on validation data.\n",
    "    val_y_pred   =  val_x@w + b\n",
    "    rms_val[lamda] = RMSE(val_y,val_y_pred)\n",
    "print(f'lambda \\t train_rmse \\t\\t val_rmse \\t\\t loocv_error')\n",
    "for l in lambdas:\n",
    "    print(f'{l} \\t {rms_train[l]} \\t {rms_val[l]} \\t {rms_loocv[l]}')"
   ]
  },
  {
   "cell_type": "code",
   "execution_count": 19,
   "metadata": {},
   "outputs": [
    {
     "data": {
      "image/png": "[encoded data removed]",
      "text/plain": [
       "<Figure size 720x720 with 1 Axes>"
      ]
     },
     "metadata": {
      "needs_background": "light"
     },
     "output_type": "display_data"
    }
   ],
   "source": [
    "df = pd.DataFrame({'Train RMSE': rms_train, 'Validation RMSE': rms_val, 'LOOCV RMSE': rms_loocv})\n",
    "ax = df.plot()\n",
    "markers = ['o','D','p']\n",
    "linestyles = ['--',':','-']\n",
    "for i, line in enumerate(ax.get_lines()):\n",
    "    line.set_marker(markers[i])\n",
    "    line.set_linestyle(linestyles[i])\n",
    "ax.set_xlabel(\"λ (lambda)\")\n",
    "ax.set_ylabel(\"RMSE\")\n",
    "ax.set_title(\"RMSE vs λ(lambda)\")\n",
    "plt.legend(loc=4)\n",
    "plt.xscale('log',basex=10) \n",
    "plt.rcParams['figure.figsize'] = [15, 10]"
   ]
  },
  {
   "cell_type": "markdown",
   "metadata": {},
   "source": [
    "**Question 3.2.2** What λ achieve the best best LOOCV performance? For the model using this λ, report the\n",
    "objective value, the sum of square errors (on training data), the value of the regularization term."
   ]
  },
  {
   "cell_type": "code",
   "execution_count": 7,
   "metadata": {},
   "outputs": [
    {
     "name": "stdout",
     "output_type": "stream",
     "text": [
      " Objective Value : 17200.940568722985\n",
      " Sum of Square errors : 12450.989275028554\n",
      " Regularization Term : 4749.951293694429\n"
     ]
    }
   ],
   "source": [
    "# LOOCV RMSE is lowest at λ = 1 as is evident from above plot\n",
    "lambda0 = 1.0\n",
    "w0, b0, obj0, cv_errors0 = ridgeReg(train_x.T, train_y, lambda0)\n",
    "\n",
    "# obj₀ = λ₀∥w₀∥² + ∑ᵢ₌₁ₜₒₙ(xᵢᵀw₀ + b₀ − yᵢ)²\n",
    "# reg₀ = λ₀∥w₀∥²\n",
    "# sse₀ = ∑ᵢ₌₁ₜₒₙ(xᵢᵀw₀ + b₀ − yᵢ)² = obj₀ - reg₀\n",
    "reg0 = lambda0*(w0.T@w0)[0,0]\n",
    "sse0 = obj0 - reg0  \n",
    "\n",
    "print(f' Objective Value : {obj0}\\n Sum of Square errors : {sse0}\\n Regularization Term : {reg0}')"
   ]
  },
  {
   "cell_type": "markdown",
   "metadata": {},
   "source": [
    "**Question 3.2.3 ** Using the model that you computed using λ that achieves best LOOCV performance, list the top 10 most important features and the top 10 least important features. Comment if the weights make sense intuitively."
   ]
  },
  {
   "cell_type": "code",
   "execution_count": 8,
   "metadata": {},
   "outputs": [
    {
     "name": "stdout",
     "output_type": "stream",
     "text": [
      "**************************************************\n",
      " Most important 10 features\n",
      "**************************************************\n",
      "index \t feature \t \t weight\n",
      "--------------------------------------------------\n",
      "184 \t infused               6.998953378195608\n",
      "754 \t pineapple orange      5.663260515332581\n",
      "773 \t red                   5.636523454589906\n",
      "1272 \t sweet black           5.194727564868572\n",
      "642 \t little heavy          5.128505094494926\n",
      "186 \t new french            5.078891240478356\n",
      "1924 \t future                4.84825814467564\n",
      "2835 \t currant cola          4.786819319038614\n",
      "2068 \t cocktail              4.735953090413375\n",
      "781 \t price dry             4.690847637298177\n",
      "\n",
      "\n",
      "**************************************************\n",
      " Least important 10 features\n",
      "**************************************************\n",
      "index \t feature \t \t weight\n",
      "--------------------------------------------------\n",
      "2368 \t flavors nice          -5.280346413179132\n",
      "1486 \t soft                  -4.643603645818644\n",
      "2821 \t low alcohol           -4.464187838964563\n",
      "2563 \t cuts                  -4.229779620329964\n",
      "2779 \t yeast                 -3.910011766605294\n",
      "1341 \t spices                -3.742144835252816\n",
      "878 \t relatively            -3.522204347501429\n",
      "2093 \t love                  -3.4953469847188217\n",
      "2267 \t appealing             -3.2789943649856923\n",
      "1352 \t cherries plums        -3.167805926416804\n"
     ]
    }
   ],
   "source": [
    "features_top_10 = sorted(range(len(w0)), key = lambda sub: w0[sub], reverse=True)[:10]\n",
    "features_bot_10 = sorted(range(len(w0)), key = lambda sub: w0[sub])[:10]\n",
    "\n",
    "print('*'*50)\n",
    "print(f' Most important 10 features')\n",
    "print('*'*50)\n",
    "print(f'index \\t feature \\t \\t weight')\n",
    "print('-'*50)\n",
    "for i in features_top_10:\n",
    "    print(i, '\\t', features[i] ,' '*(20-len(features[i])), w0[i,0])\n",
    "print('\\n')\n",
    "print('*'*50)\n",
    "print(f' Least important 10 features')\n",
    "print('*'*50)\n",
    "print(f'index \\t feature \\t \\t weight')\n",
    "print('-'*50)\n",
    "for i in features_bot_10:\n",
    "    print(i, '\\t', features[i] ,' '*(20-len(features[i])), w0[i,0])"
   ]
  },
  {
   "cell_type": "markdown",
   "metadata": {},
   "source": [
    "The weights make sense . The top 10 features have the highest weights (the most important ones having higher weight). The least important 10 features have the lowest weights ( the least important ones having lower weight). Thus, the value of the weight gives an intuition about their importance."
   ]
  },
  {
   "cell_type": "markdown",
   "metadata": {},
   "source": [
    "**Question 3.2.4 **  Use your model to predict the points for the reviews in test data. Save\n",
    "the predicted values on a CSV file predTestLabels.csv (see 4.2 for the format). The order of\n",
    "predicted values should correspond to the order of the reviews in testData.csv (counting starts\n",
    "from 0).\n"
   ]
  },
  {
   "cell_type": "code",
   "execution_count": 9,
   "metadata": {},
   "outputs": [],
   "source": [
    "features_top = sorted(range(len(w0)), key = lambda sub: w0[sub], reverse=True)\n",
    "train_x_top = train_x[:,features_top]\n",
    "val_x_top = val_x[:,features_top]\n",
    "test_x_top = test_x[:,features_top]\n",
    "\n",
    "#np.where(~val_x.any(axis=0))[0] # checking for zero value columns\n",
    "#plt.imshow(train_x[:,features_top], cmap='hot', interpolation='nearest')\n",
    "#plt.show() # plotting heatmap\n",
    "#np.unique(train_x) #132 unique values\n",
    "#for i in range(1,5):\n",
    "#    print(np.nonzero(train_x[:,i])) #checking non zero values per column\n",
    "#minval_train = 1-np.max(train_x_top[np.nonzero(train_x_top)])\n",
    "#minval_val = 1-np.max(val_x_top[np.nonzero(val_x_top)])\n",
    "#minval_test = 1-np.max(test_x_top[np.nonzero(test_x_top)])\n",
    "                                 \n",
    "#since most of the values are zero, applying log(1+x) to the data.    \n",
    "train_x_log = np.log(1+train_x_top)\n",
    "val_x_log = np.log(1+val_x_top)\n",
    "test_x_log = np.log(1+test_x_top)\n",
    "\n",
    "#print(train_x_log.mean(axis=1),val_x_log.mean(axis=1),test_x_log.mean(axis=1))\n",
    "#np.mean(test_x_top[np.nonzero(test_x_top)])\n",
    "#min  = 0.12 across all\n",
    "#max =  0.72 for train, 0.65\n",
    "#mean = 0.197 across all\n",
    "#np.vstack((train_y,val_y)).shape"
   ]
  },
  {
   "cell_type": "markdown",
   "metadata": {},
   "source": [
    "trying lambda values between 0.1 and 1, then 0.5 and 0.9 , then 0.1 and 0.5, using top 1500 features - somewhat useful\n",
    "trying lambda values between 0.35 and 0.55, then 0.55 and 0.85 using top 2000 features - not useful\n",
    "trying lambda values between 0.35 and 0.55, then 0.55 and 0.85 using top 2500 features - not useful\n",
    "trying lambda values between 0.35 and 0.55, then 0.55 and 0.85 using top 1750 features - not useful"
   ]
  },
  {
   "cell_type": "code",
   "execution_count": 12,
   "metadata": {},
   "outputs": [
    {
     "name": "stdout",
     "output_type": "stream",
     "text": [
      "lambda \t train_rmse \t\t val_rmse \t\t loocv_error\n",
      "0.65 \t 1.5849671017577363 \t 1.5629367468508262 \t 1.8892073085506857\n",
      "0.66 \t 1.586504943286134 \t 1.564586809121593 \t 1.8891633572039386\n",
      "0.67 \t 1.5880323474446352 \t 1.566226492904336 \t 1.8891350578217838\n",
      "0.68 \t 1.5895494579472191 \t 1.5678559239672192 \t 1.8891218205894407\n",
      "0.6900000000000001 \t 1.591056416036289 \t 1.5694752266332914 \t 1.889123082632492\n",
      "0.7000000000000001 \t 1.5925533605071756 \t 1.5710845237383082 \t 1.8891383065088745\n",
      "0.7100000000000001 \t 1.5940404277358489 \t 1.5726839365957659 \t 1.8891669788010337\n",
      "0.7200000000000001 \t 1.5955177517080883 \t 1.5742735849697562 \t 1.889208608801836\n",
      "0.7300000000000001 \t 1.5969854640500798 \t 1.5758535870533923 \t 1.889262727284942\n",
      "0.7400000000000001 \t 1.5984436940627755 \t 1.577424059452594 \t 1.8893288853563064\n"
     ]
    }
   ],
   "source": [
    "lambdas = np.arange(0.65, 0.75, 0.01)\n",
    "rms_train = {}\n",
    "rms_val = {}\n",
    "rms_loocv = {}\n",
    "for lamda in lambdas :\n",
    "    # RMSE on leave-one-out-cross-validation data.\n",
    "    w, b, obj, cv_errors =  ridgeReg(np.vstack((train_x_log,val_x_log)).T, np.vstack((train_y,val_y)), lamda)\n",
    "    rms_loocv[lamda] = RMSE(np.array(cv_errors))\n",
    "    \n",
    "    # RMSE on train data.\n",
    "    train_y_pred   = train_x_log@w + b\n",
    "    rms_train[lamda] = RMSE(train_y,train_y_pred)\n",
    "    \n",
    "    # RMSE on validation data.\n",
    "    val_y_pred   =  val_x_log@w + b\n",
    "    rms_val[lamda] = RMSE(val_y,val_y_pred)\n",
    "print(f'lambda \\t train_rmse \\t\\t val_rmse \\t\\t loocv_error')\n",
    "for l in lambdas:\n",
    "    print(f'{l} \\t {rms_train[l]} \\t {rms_val[l]} \\t {rms_loocv[l]}')"
   ]
  },
  {
   "cell_type": "markdown",
   "metadata": {},
   "source": [
    "'ridge results'\n",
    "\n",
    "1. lambdas = np.arange(0.05, 0.95, 0.1)\n",
    "lambda \t train_rmse \t\t val_rmse \t\t loocv_error\n",
    "0.05 \t 1.6046137773611917 \t 1.5877931891071548 \t 2.0054165240719133\n",
    "0.15000000000000002 \t 1.6037195642917668 \t 1.5840805870497878 \t 1.9451211701053366\n",
    "0.25000000000000006 \t 1.609130583380727 \t 1.589103899150963 \t 1.9172459536454498\n",
    "0.35000000000000003 \t 1.6168232588357594 \t 1.597128600478682 \t 1.9025268674363394\n",
    "0.45000000000000007 \t 1.6254029503407201 \t 1.6063398198901988 \t 1.8946094410523593\n",
    "0.5500000000000002 \t 1.634276549300964 \t 1.6159895498086463 \t 1.89066033572717\n",
    "0.6500000000000001 \t 1.643165718361756 \t 1.6257290443486025 \t 1.8892073085506846\n",
    "0.7500000000000002 \t 1.6519336860716956 \t 1.635385030335106 \t 1.8894066533755176\n",
    "0.8500000000000002 \t 1.6605131174730603 \t 1.6448694770992496 \t 1.8907402830608346\n",
    "\n",
    "2. lambdas = np.arange(0.55, 0.85, 0.05)\n",
    "lambda \t train_rmse \t\t val_rmse \t\t loocv_error\n",
    "0.55 \t 1.6342765493007156 \t 1.6159895498083325 \t 1.890660335726852\n",
    "0.6000000000000001 \t 1.6387299346328665 \t 1.6208616100365991 \t 1.8896845882682543\n",
    "0.6500000000000001 \t 1.643165718361756 \t 1.6257290443486025 \t 1.8892073085506846\n",
    "0.7000000000000002 \t 1.647570183030469 \t 1.6305743529873427 \t 1.889138306509035\n",
    "0.7500000000000002 \t 1.6519336860716956 \t 1.635385030335106 \t 1.8894066533755176\n",
    "0.8000000000000003 \t 1.6562495206653602 \t 1.640152167236323 \t 1.889955831264713\n",
    "\n",
    "3. lambdas = np.arange(0.65, 0.75, 0.01)\n",
    "lambda \t train_rmse \t\t val_rmse \t\t loocv_error\n",
    "0.65 \t 1.6431657183619586 \t 1.6257290443483468 \t 1.8892073085504193\n",
    "0.66 \t 1.6440494756068105 \t 1.6267003378255116 \t 1.889163357203895\n",
    "0.67 \t 1.6449318796050596 \t 1.6276706176368714 \t 1.8891350578213462\n",
    "0.68 \t 1.6458128486813062 \t 1.6286397781866804 \t 1.889121820590393\n",
    "0.6900000000000001 \t 1.6466923067639314 \t 1.6296077207379436 \t 1.8891230826326095\n",
    "0.7000000000000001 \t 1.6475701830305616 \t 1.6305743529872334 \t 1.8891383065097567\n",
    "0.7100000000000001 \t 1.648446411579344 \t 1.6315395886498834 \t 1.8891669788009053\n",
    "0.7200000000000001 \t 1.649320931114297 \t 1.6325033470905936 \t 1.8892086088016327\n",
    "0.7300000000000001 \t 1.6501936846746326 \t 1.6334655529772293 \t 1.88926272728481\n",
    "0.7400000000000001 \t 1.6510646193590914 \t 1.6344261359559016 \t 1.8893288853553307"
   ]
  },
  {
   "cell_type": "code",
   "execution_count": 11,
   "metadata": {},
   "outputs": [
    {
     "name": "stdout",
     "output_type": "stream",
     "text": [
      "1.8891218205894407\n",
      " Objective Value : 30951.90761683126\n",
      " Sum of Square errors : 30325.486333903857\n",
      " Regularization Term : 626.421282927404\n"
     ]
    }
   ],
   "source": [
    "lambda_final = 0.68\n",
    "w_final, b_final, obj_final, cv_errors_final = ridgeReg(np.vstack((train_x_log, val_x_log)).T, \n",
    "                                                    np.vstack((train_y,val_y)), lambda_final)\n",
    "    \n",
    "print(RMSE(np.array(cv_errors_final)))\n",
    "test_pred_y = (test_x_log@w_final) + b_final\n",
    "predictions_df = pd.DataFrame(test_pred_y)\n",
    "predictions_df.index.rename('Id', inplace=True)\n",
    "predictions_df.to_csv('predTestLabels.csv', index=True, header=['Expected'])\n",
    "\n",
    "reg_final = lambda_final*(w_final.T@w0)[0,0]\n",
    "sse_final = obj_final - reg_final  \n",
    "\n",
    "print(f' Objective Value : {obj_final}\\n Sum of Square errors : {sse_final}\\n Regularization Term : {reg_final}')"
   ]
  }
 ],
 "metadata": {
  "kernelspec": {
   "display_name": "Python 3",
   "language": "python",
   "name": "python3"
  },
  "language_info": {
   "codemirror_mode": {
    "name": "ipython",
    "version": 3
   },
   "file_extension": ".py",
   "mimetype": "text/x-python",
   "name": "python",
   "nbconvert_exporter": "python",
   "pygments_lexer": "ipython3",
   "version": "3.6.5"
  }
 },
 "nbformat": 4,
 "nbformat_minor": 1
}
